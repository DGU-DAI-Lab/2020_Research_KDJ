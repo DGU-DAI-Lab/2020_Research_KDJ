{
 "cells": [
  {
   "cell_type": "code",
   "execution_count": null,
   "metadata": {},
   "outputs": [],
   "source": [
    "import util.add_repository_path"
   ]
  },
  {
   "cell_type": "code",
   "execution_count": null,
   "metadata": {},
   "outputs": [],
   "source": [
    "import numpy as np\n",
    "\n",
    "class Perceptron():\n",
    "    def __init__(self):\n",
    "        np.random.seed(0)\n",
    "\n",
    "        self.w = np.random.rand(3)\n",
    "        self.rate = 0.1\n",
    "    \n",
    "    def fit(self, X, Y):\n",
    "        samples = len(X)\n",
    "        features = len(X[0])\n",
    "\n",
    "        cnt = 0\n",
    "        print('Start Learning.\\n')\n",
    "\n",
    "        while True:\n",
    "            quit_flag = True\n",
    "            print(str(cnt), end='')\n",
    "            for j in range(samples):\n",
    "                _y = self.w.T[:-1] * X[j]\n",
    "            \n",
    "                if np.array_equal(_y, Y[j]): continue\n",
    "\n",
    "                quit_flag = False\n",
    "                for i in range(features):\n",
    "                    self.w[i] = self.w[i] + self.rate * (Y[j]*X[j,i])\n",
    "\n",
    "            if quit_flag: break\n",
    "\n",
    "            cnt += 1\n",
    "\n",
    "        print(self.w)\n",
    "\n",
    "X = np.array([\n",
    "    [0, 0],\n",
    "    [0, 1],\n",
    "    [1, 0],\n",
    "    [1, 1]\n",
    "])\n",
    "Y = np.array([ 1, 1, 1, 0 ])\n",
    "\n",
    "p = Perceptron()\n",
    "p.fit(X,Y)"
   ]
  },
  {
   "cell_type": "code",
   "execution_count": null,
   "metadata": {},
   "outputs": [],
   "source": []
  },
  {
   "cell_type": "code",
   "execution_count": null,
   "metadata": {},
   "outputs": [],
   "source": []
  }
 ],
 "metadata": {
  "language_info": {
   "codemirror_mode": {
    "name": "ipython",
    "version": 3
   },
   "file_extension": ".py",
   "mimetype": "text/x-python",
   "name": "python",
   "nbconvert_exporter": "python",
   "pygments_lexer": "ipython3",
   "version": "3.7.7-final"
  },
  "orig_nbformat": 2,
  "kernelspec": {
   "name": "python37764bitmlconda56395923f6734d2e9d871b41acf277cc",
   "display_name": "Python 3.7.7 64-bit ('ml': conda)"
  }
 },
 "nbformat": 4,
 "nbformat_minor": 2
}