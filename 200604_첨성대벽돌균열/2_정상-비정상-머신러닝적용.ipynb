{
 "cells": [
  {
   "cell_type": "markdown",
   "metadata": {},
   "source": [
    "## 1. 데이터 불러오기\n",
    "\n",
    "'1_훼손 영역에 대한 검출 가능성.ipynb'에서 생성한 데이터를 사용."
   ]
  },
  {
   "cell_type": "code",
   "execution_count": 1,
   "metadata": {},
   "outputs": [],
   "source": [
    "import os\n",
    "\n",
    "DATA_STR_PATH = \"./data/\"\n",
    "\n",
    "# --------------------------------\n",
    "\n",
    "if not os.path.exists(DATA_STR_PATH): raise Exception(\"No data.\")\n",
    "\n",
    "file_basename_list = []\n",
    "\n",
    "with open(f\"{DATA_STR_PATH}.datalist\", \"r\") as f:\n",
    "    file_basename_list = f.readlines()\n",
    "\n",
    "def load():\n",
    "    for file_basename in file_basename_list:\n",
    "        file_name, file_extension = os.path.splitext(file_basename)\n",
    "\n",
    "        raw  = cv2.imread(f\"{DATA_STR_PATH}{file_basename}\", cv2.IMREAD_COLOR)\n",
    "        mask = cv2.imread(f\"{DATA_STR_PATH}{file_name}_mask{file_extension}\", cv2.IMREAD_GRAYSCALE)\n",
    "\n",
    "        yield raw, mask"
   ]
  },
  {
   "cell_type": "markdown",
   "metadata": {},
   "source": [
    "## 2. "
   ]
  },
  {
   "cell_type": "code",
   "execution_count": 2,
   "metadata": {},
   "outputs": [
    {
     "output_type": "stream",
     "name": "stdout",
     "text": "(203, 301, 3) (203, 301)\n"
    }
   ],
   "source": [
    "import cv2\n",
    "import numpy as np\n",
    "\n",
    "MIN_CONT_AREA = 20\n",
    "\n",
    "# --------------------------------\n",
    "\n",
    "for raw, mask in load():\n",
    "    contours = cv2.findContours(mask, cv2.RETR_EXTERNAL, cv2.CHAIN_APPROX_SIMPLE)[-2]\n",
    "\n",
    "    labled_mask = np.zeros(mask.shape, dtype=np.uint8)\n",
    "\n",
    "    for cont in contours:\n",
    "        if cv2.contourArea(cont) >= MIN_CONT_AREA:\n",
    "            cv2.drawContours(labled_mask, [cont], -1, 1, -1)\n",
    "\n",
    "        else:\n",
    "            cv2.drawContours(labled_mask, [cont], -1, 2, -1)\n"
   ]
  }
 ],
 "metadata": {
  "language_info": {
   "codemirror_mode": {
    "name": "ipython",
    "version": 3
   },
   "file_extension": ".py",
   "mimetype": "text/x-python",
   "name": "python",
   "nbconvert_exporter": "python",
   "pygments_lexer": "ipython3",
   "version": "3.7.7-final"
  },
  "orig_nbformat": 2,
  "kernelspec": {
   "name": "python37764bitmlconda56395923f6734d2e9d871b41acf277cc",
   "display_name": "Python 3.7.7 64-bit ('ml': conda)"
  }
 },
 "nbformat": 4,
 "nbformat_minor": 2
}