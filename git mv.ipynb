{
 "cells": [
  {
   "cell_type": "code",
   "execution_count": 1,
   "metadata": {},
   "outputs": [
    {
     "output_type": "stream",
     "name": "stdout",
     "text": "Renamed dir: \"200604_첨성대벽돌균열\" -> \"200604-200611_첨성대벽돌균열\"\n"
    }
   ],
   "source": [
    "from_dir = '200604_첨성대벽돌균열'\n",
    "to_dir   = '200604-200611_첨성대벽돌균열'\n",
    "\n",
    "commit_msg = f\"Renamed dir: \\\"{from_dir}\\\" -> \\\"{to_dir}\\\"\"\n",
    "\n",
    "import os\n",
    "\n",
    "if not os.path.exists(to_dir): os.mkdir(to_dir)\n",
    "\n",
    "file_path_list = os.listdir(from_dir)\n",
    "\n",
    "for file_path in file_path_list:\n",
    "    from_file = os.path.join(from_dir, file_path)\n",
    "    to_file   = os.path.join(to_dir, file_path)\n",
    "    os.system(f\"git mv \\\"{from_file}\\\" \\\"{to_file}\\\"\")\n",
    "\n",
    "os.remove(from_dir)\n",
    "\n",
    "print(commit_msg)"
   ]
  },
  {
   "cell_type": "code",
   "execution_count": null,
   "metadata": {},
   "outputs": [],
   "source": []
  }
 ],
 "metadata": {
  "language_info": {
   "codemirror_mode": {
    "name": "ipython",
    "version": 3
   },
   "file_extension": ".py",
   "mimetype": "text/x-python",
   "name": "python",
   "nbconvert_exporter": "python",
   "pygments_lexer": "ipython3",
   "version": "3.7.7-final"
  },
  "orig_nbformat": 2,
  "kernelspec": {
   "name": "python37764bitmlconda56395923f6734d2e9d871b41acf277cc",
   "display_name": "Python 3.7.7 64-bit ('ml': conda)"
  }
 },
 "nbformat": 4,
 "nbformat_minor": 2
}