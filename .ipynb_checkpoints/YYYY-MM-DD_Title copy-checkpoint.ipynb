{
 "cells": [
  {
   "cell_type": "markdown",
   "metadata": {},
   "source": [
    "# 서론\n",
    "\n",
    "## 주제\n",
    "## 목표\n",
    "## 개념\n",
    "\n",
    "---\n",
    "\n",
    "# 본론\n",
    "\n",
    "## 설계"
   ]
  },
  {
   "cell_type": "code",
   "execution_count": 1,
   "metadata": {},
   "outputs": [
    {
     "name": "stdout",
     "output_type": "stream",
     "text": [
      "Enter password: ········\n",
      "Verify password: ········\n"
     ]
    },
    {
     "data": {
      "text/plain": [
       "'sha1:d3002f49a66a:664cf488daada59d58b15e40a7e2212f16c52082'"
      ]
     },
     "execution_count": 1,
     "metadata": {},
     "output_type": "execute_result"
    }
   ],
   "source": [
    "from notebook.auth import passwd\n",
    "passwd()"
   ]
  },
  {
   "cell_type": "markdown",
   "metadata": {},
   "source": [
    "\n",
    "---\n",
    "\n",
    "# 결론\n",
    "\n",
    "## 해석\n",
    "## 고찰\n",
    "## 계획\n",
    "\n",
    "---\n",
    "\n",
    "# 부록\n",
    "\n",
    "---\n",
    "\n",
    "# 세미나\n",
    "\n",
    "## 1. 연구원이름\n",
    "\n",
    "### 분류: \n",
    "### 주제: "
   ]
  }
 ],
 "metadata": {
  "kernelspec": {
   "display_name": "Python 3",
   "language": "python",
   "name": "python3"
  },
  "language_info": {
   "codemirror_mode": {
    "name": "ipython",
    "version": 3
   },
   "file_extension": ".py",
   "mimetype": "text/x-python",
   "name": "python",
   "nbconvert_exporter": "python",
   "pygments_lexer": "ipython3",
   "version": "3.7.7"
  }
 },
 "nbformat": 4,
 "nbformat_minor": 4
}
