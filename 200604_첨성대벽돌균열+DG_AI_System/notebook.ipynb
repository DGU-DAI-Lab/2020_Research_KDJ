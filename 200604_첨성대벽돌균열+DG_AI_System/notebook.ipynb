{
 "cells": [
  {
   "cell_type": "markdown",
   "metadata": {},
   "source": [
    "# 벽돌 데이터 수집\n",
    "\n",
    "## 코드 설계\n",
    "\n",
    " IMAGE --> grayscale --> threshold--> erode --> find contour --> cut --> normalization"
   ]
  },
  {
   "cell_type": "markdown",
   "metadata": {},
   "source": [
    "## 파일 불러오기 및 준비"
   ]
  },
  {
   "cell_type": "code",
   "execution_count": null,
   "metadata": {},
   "outputs": [],
   "source": [
    "import cv2\n",
    "import matplotlib.pyplot as plt\n",
    "import numpy as np\n",
    "import os\n",
    "\n",
    "# generator 객체를 반환.\n",
    "def readFiles(path, opener=cv2.imread):\n",
    "    filepath_list = []\n",
    "    file_list = []\n",
    "\n",
    "    if not os.path.isdir(path):\n",
    "        raise Exception(f\"'{path}' is not a directory.\")\n",
    "\n",
    "    for f in os.listdir(path):\n",
    "        filepath = os.path.join(path, f)\n",
    "\n",
    "        if os.path.isfile(filepath):\n",
    "            filepath_list.append(filepath)\n",
    "            file_list.append(opener(filepath))\n",
    "\n",
    "    return filepath_list, file_list"
   ]
  },
  {
   "cell_type": "markdown",
   "metadata": {},
   "source": [
    "## plot에서 한글이 출력 안되는 문제 해결"
   ]
  },
  {
   "cell_type": "code",
   "execution_count": null,
   "metadata": {},
   "outputs": [],
   "source": [
    "import matplotlib.font_manager as fm\n",
    "\n",
    "korean_font = fm.FontProperties(fname='/System/Library/Fonts/AppleSDGothicNeo.ttc', size=14)"
   ]
  },
  {
   "cell_type": "markdown",
   "metadata": {},
   "source": [
    "## 파손 침식 등을 검출"
   ]
  },
  {
   "cell_type": "code",
   "execution_count": null,
   "metadata": {},
   "outputs": [],
   "source": [
    "# 파손, 침식된 부분만 남기고 삭제\n",
    "def threshold(frame_gray):\n",
    "    # sobelX = cv2.Sobel(frame, cv2.CV_64F, 1, 0, ksize=3)\n",
    "    # sobelX = cv2.convertScaleAbs(sobelX)\n",
    "    # frame = sobelX\n",
    "\n",
    "    # kernel = np.array([\n",
    "    #     [0, 0, 0, 0, 0],\n",
    "    #     [0, 1, 1, 1, 0],\n",
    "    #     [1, 1, 1, 1, 1],\n",
    "    #     [0, 1, 1, 1, 0],\n",
    "    #     [0, 0, 0, 0, 0]\n",
    "    # ], dtype=np.uint8)\n",
    "    # frame = cv2.erode(frame, kernel, iterations=1)\n",
    "\n",
    "    # frame = cv2.adaptiveThreshold(frame, 255, cv2.ADAPTIVE_THRESH_GAUSSIAN_C, cv2.THRESH_BINARY_INV, 9, 1)\n",
    "    frame_bin = cv2.threshold(frame_gray, 64, 255, cv2.THRESH_BINARY_INV)[-1]\n",
    "    return frame_bin\n",
    "\n",
    "def locateBreaks(frame):\n",
    "    frame_gray = cv2.cvtColor(frame, cv2.COLOR_BGR2GRAY)\n",
    "    frame_bin = threshold(frame_gray)\n",
    "\n",
    "    contours = cv2.findContours(frame_bin, cv2.RETR_EXTERNAL, cv2.CHAIN_APPROX_SIMPLE)[-2]\n",
    "    def _(cont):\n",
    "        x,y,w,h = cv2.boundingRect(cont)\n",
    "        cx, cy = (x + w//2, y + h//2)\n",
    "        return {\n",
    "            'x': x,\n",
    "            'y': y,\n",
    "            'w': w,\n",
    "            'h': h,\n",
    "            'cx': cx,\n",
    "            'cy': cy,\n",
    "            'contour': cont\n",
    "        }\n",
    "    return [ _(c) for c in contours ]\n"
   ]
  },
  {
   "cell_type": "code",
   "execution_count": null,
   "metadata": {},
   "outputs": [],
   "source": [
    "def findHoles(frame_bgr):\n",
    "    frame_hsv = cv2.cvtColor(frame_bgr, cv2.COLOR_BGR2HSV)\n",
    "    # 채도(S)와 밝기(V)가 낮은 영역 : 검은색 영역을 선택\n",
    "    frame_bin = cv2.inRange(frame_hsv, (  0,  0,  0), (255, 96, 96)) \n",
    "    return frame_bin\n",
    "\n",
    "def findContoursFromMask(frame_color, mask):\n",
    "    contours = cv2.findContours(mask, cv2.RETR_EXTERNAL, cv2.CHAIN_APPROX_SIMPLE)[-2]\n",
    "    for cont in contours:\n",
    "        if cv2.contourArea(cont) < 10: continue\n",
    "\n",
    "        x, y, w, h = cv2.boundingRect(cont)\n",
    "        cx, cy = x + w/2, y + h/2\n",
    "        n = max(w,h)\n",
    "        #\n",
    "        x0, y0 = int(cx - n/2), int(cy - n/2)\n",
    "        x1, y1 = int(cx + n/2), int(cy + n/2)\n",
    "        #\n",
    "        frame_cut = np.zeros((n,n,3), dtype=np.uint8)\n",
    "        frame_cut = frame_color[y0:y1, x0:x1]\n",
    "        #\n",
    "        yield frame_cut.copy()\n"
   ]
  },
  {
   "cell_type": "markdown",
   "metadata": {},
   "source": [
    "## 결과 출력"
   ]
  },
  {
   "cell_type": "code",
   "execution_count": null,
   "metadata": {},
   "outputs": [],
   "source": [
    "filepath_list, frame_list = readFiles('./res/', opener=cv2.imread)\n",
    "\n",
    "for filepath, frame_bgr in zip(filepath_list, frame_list):\n",
    "    if (type(frame_bgr) == type(None)) : continue\n",
    "\n",
    "    print(f\"For file '{filepath}':\")\n",
    "\n",
    "    mask = findHoles(frame_bgr)\n",
    "    frame_cut_list = list(findContoursFromMask(frame_bgr, mask))\n",
    "    idx_list = range(len(frame_cut_list))\n",
    "\n",
    "    for frame_cut, idx in zip(frame_cut_list, idx_list):\n",
    "        cv2.imwrite(f'./out/{os.path.basename(filepath)}_{idx}.png', frame_cut)\n",
    "        #\n",
    "    plt.imshow(cv2.cvtColor(frame_bgr, cv2.COLOR_BGR2RGB))\n",
    "    plt.show()\n",
    "    plt.imshow(hole_mask, cmap='gray')\n",
    "    plt.show()\n",
    "    continue\n",
    "\n",
    "\n",
    "    frame_out = image.copy()\n",
    "    locations = locateBreaks(image)\n",
    "\n",
    "    print(f\"\\nFor file '{filepath}':\\n\")\n",
    "    for lc, idx in zip(locations, range(len(locations))):\n",
    "        x,y,w,h,cx,cy,cont = [lc[x] for x in ['x','y','w','h','cx','cy','contour']]\n",
    "\n",
    "\n",
    "        n = max(w,h)\n",
    "        c = n / 2\n",
    "\n",
    "        cv2.rectangle(frame_out, (x,y), (x+w, y+h), (0,0,255), 1)\n",
    "\n",
    "\n",
    "        cv2.imwrite(f'./out/{os.path.basename(filepath)}_{idx}', image[ lc['y']:lc['y']+lc['h'], lc['x']:lc['x']+lc['w'] ])\n",
    "        print(f\"\\r {filepath}_{idx}\", end='')\n",
    "        continue\n",
    "\n",
    "        partial = np.zeros((n,n,3), dtype=np.uint8)\n",
    "\n",
    "        x0,y0 = max(  0, cx-c), max(  0, cy-c)\n",
    "        x1,y1 = min(256, cx+c), min(256, cy+c)\n",
    "\n",
    "        x0,y0,x1,y1 = [round(x) for x in (x0,y0,x1,y1)]\n",
    "        \n",
    "        cut = image[y0:y1, x0:x1]\n",
    "\n",
    "        h, w = y1-y0, x1-x0\n",
    "\n",
    "        x0,y0 = max(  0, c-h/2), max(  0, c+h/2)\n",
    "        x1,y1 = min(256, c-w/2), min(256, c-w/2)\n",
    "\n",
    "        x0,y0,x1,y1 = [round(x) for x in (x0,y0,x1,y1)]\n",
    "\n",
    "        partial[y0:y1, x0:x1] = cut\n",
    "\n",
    "        cv2.imwrite(f'{filepath}_{i}', partial)\n",
    "\n",
    "    plt.imshow(cv2.cvtColor(frame_out, cv2.COLOR_BGR2RGB))\n",
    "    plt.show()"
   ]
  },
  {
   "cell_type": "code",
   "execution_count": null,
   "metadata": {},
   "outputs": [],
   "source": [
    "type(None)"
   ]
  },
  {
   "cell_type": "code",
   "execution_count": null,
   "metadata": {},
   "outputs": [],
   "source": []
  }
 ],
 "metadata": {
  "kernelspec": {
   "name": "python3",
   "display_name": "Python 3"
  }
 },
 "nbformat": 4,
 "nbformat_minor": 4
}