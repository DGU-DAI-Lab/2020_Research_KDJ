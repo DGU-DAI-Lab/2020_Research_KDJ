{
 "cells": [
  {
   "cell_type": "markdown",
   "metadata": {},
   "source": [
    "# 서론\n",
    "\n",
    "## 주제\n",
    "## 목표\n",
    "## 개념\n",
    "\n",
    "---\n",
    "\n",
    "# 본론\n",
    "\n",
    "## 설계"
   ]
  },
  {
   "cell_type": "markdown",
   "metadata": {},
   "source": [
    "\n",
    "---\n",
    "\n",
    "# 결론\n",
    "\n",
    "## 해석\n",
    "## 고찰\n",
    "## 계획\n",
    "\n",
    "---\n",
    "\n",
    "# 부록\n",
    "\n",
    "---\n",
    "\n",
    "# 세미나\n",
    "\n",
    "## 연구원이름\n",
    "\n",
    "### 분류: {Paper Scanning / Study / Introduce / Feedback}\n",
    "### 주제: "
   ]
  }
 ],
 "metadata": {
  "kernelspec": {
   "name": "python3",
   "display_name": "Python 3"
  }
 },
 "nbformat": 4,
 "nbformat_minor": 4
}