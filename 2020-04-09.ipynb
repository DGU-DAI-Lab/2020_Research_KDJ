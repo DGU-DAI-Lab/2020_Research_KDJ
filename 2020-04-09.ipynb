{
 "nbformat": 4,
 "nbformat_minor": 2,
 "metadata": {
  "language_info": {
   "name": "python",
   "codemirror_mode": {
    "name": "ipython",
    "version": 3
   },
   "version": "3.7.6-final"
  },
  "orig_nbformat": 2,
  "file_extension": ".py",
  "mimetype": "text/x-python",
  "name": "python",
  "npconvert_exporter": "python",
  "pygments_lexer": "ipython3",
  "version": 3,
  "kernelspec": {
   "name": "python37764bitmlconda56395923f6734d2e9d871b41acf277cc",
   "display_name": "Python 3.7.7 64-bit ('ml': conda)"
  }
 },
 "cells": [
  {
   "cell_type": "markdown",
   "metadata": {},
   "source": [
    "# Face Detection\n",
    "with OpenCV :: Cascade Classifier\n",
    "\n",
    "## 목표\n",
    "* 동영상으로부터 객체 판별 -> Camera\n",
    "* 영상처리를 이용 -> OpenCV\n",
    "\n",
    "## 하르 분류기란?"
   ]
  },
  {
   "cell_type": "markdown",
   "metadata": {},
   "source": [
    "# 데이터 셋 준비:"
   ]
  },
  {
   "cell_type": "code",
   "execution_count": null,
   "metadata": {},
   "outputs": [],
   "source": [
    "# 데이터 셋 준비\n",
    "\n",
    "import urllib.request\n",
    "\n",
    "def download(base_url, files, path_downloads):\n",
    "    for f in files:\n",
    "        urllib.request.urlretrieve(base_url+f,path_downloads+f)\n",
    "\n",
    "# 하르 캐스케이드 특징 분류기 모델\n",
    "# 'https://github.com/opencv/opencv/tree/master/data/haarcascades' \n",
    "\n",
    "PATH_DOWNLOADS = './resources/'\n",
    "BASE_URL = 'https://raw.githubusercontent.com/opencv/opencv/master/data/haarcascades/'\n",
    "FILES = ['haarcascade_frontalface_default.xml',\n",
    "         'haarcascade_eye.xml']\n",
    "\n",
    "download(BASE_URL, FILES, PATH_DOWNLOADS)"
   ]
  },
  {
   "cell_type": "markdown",
   "metadata": {},
   "source": [
    "# 하르 얼굴 검출기:"
   ]
  },
  {
   "cell_type": "code",
   "execution_count": 8,
   "metadata": {},
   "outputs": [
    {
     "output_type": "stream",
     "name": "stdout",
     "text": "Successfully Closed\n"
    }
   ],
   "source": [
    "import numpy as np\n",
    "import cv2\n",
    "\n",
    "PATH = './resources/'\n",
    "PRE_TRAINED_MODELS = {'frontalface': 'haarcascade_frontalface_default.xml',\n",
    "                      'eye': 'haarcascade_eye.xml'}\n",
    "\n",
    "FACE_THICKNESS, FACE_COLOR = 2, (255,0,0)\n",
    "EYES_THICKNESS, EYES_COLOR = 1, (0,255,0)\n",
    "\n",
    "\n",
    "classifier = {'face': cv2.CascadeClassifier(PATH + PRE_TRAINED_MODELS['frontalface']),\n",
    "              'eye': cv2.CascadeClassifier(PATH + PRE_TRAINED_MODELS['eye'])}\n",
    "\n",
    "# Camera Settings\n",
    "cap = cv2.VideoCapture(0)\n",
    "frame_width = int(cap.get(3))\n",
    "frame_height = int(cap.get(4))\n",
    "out = cv2.VideoWriter('face_detect.avi',\n",
    "                      cv2.VideoWriter_fourcc('M','J','P','G'),\n",
    "                      10,\n",
    "                      (frame_width,frame_height))\n",
    "\n",
    "# Mainloop\n",
    "while True:\n",
    "    ret, frame = cap.read()\n",
    "    if not ret: break\n",
    "    \n",
    "    gray = cv2.cvtColor(frame, cv2.COLOR_BGR2GRAY)\n",
    "    \n",
    "    faces = classifier['face'].detectMultiScale(gray, 1.3, 3)\n",
    "    for (x,y,w,h) in faces:\n",
    "        cv2.rectangle(frame, (x,y), (x+w, y+h), FACE_COLOR, FACE_THICKNESS)\n",
    "        roi_gray, roi_color = gray[y:y+h, x:x+w], frame[y:y+h, x:x+w]\n",
    "\n",
    "        eyes = classifier['eye'].detectMultiScale(roi_gray)\n",
    "        for (ex,ey,ew,eh) in eyes:\n",
    "            cv2.rectangle(roi_color, (ex,ey), (ex+ew, ey+eh), EYES_COLOR, EYES_THICKNESS)\n",
    "                \n",
    "    cv2.imshow('frame', frame)\n",
    "    out.write(frame)\n",
    "\n",
    "    key = cv2.waitKey(8)\n",
    "    if key == 27: break\n",
    "\n",
    "cv2.destroyAllWindows()\n",
    "cap.release()\n",
    "out.release()"
   ]
  },
  {
   "cell_type": "code",
   "execution_count": null,
   "metadata": {},
   "outputs": [],
   "source": []
  }
 ]
}