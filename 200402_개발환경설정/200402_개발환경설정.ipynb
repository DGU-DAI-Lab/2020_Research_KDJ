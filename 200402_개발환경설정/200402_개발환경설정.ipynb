{
 "nbformat": 4,
 "nbformat_minor": 2,
 "metadata": {
  "language_info": {
   "name": "python",
   "codemirror_mode": {
    "name": "ipython",
    "version": 3
   }
  },
  "orig_nbformat": 2,
  "file_extension": ".py",
  "mimetype": "text/x-python",
  "name": "python",
  "npconvert_exporter": "python",
  "pygments_lexer": "ipython3",
  "version": 3
 },
 "cells": [
  {
   "cell_type": "markdown",
   "metadata": {},
   "source": [
    "Conda 가상환경에서 실험\n",
    "\n",
    "설치방법:\n",
    "```shell\n",
    "conda create -n <가상환경이름> python==3.7.7 anaconda\n",
    "pip install tensorflow\n",
    "pip install opencv-python\n",
    "```\n",
    "\n",
    "실행/종료 방법\n",
    "```shell\n",
    "conda activate <가상환경이름>\n",
    "conda deactivate\n",
    "```\n",
    "\n",
    "\n",
    "\n"
   ]
  },
  {
   "cell_type": "code",
   "execution_count": null,
   "metadata": {},
   "outputs": [],
   "source": [
    "!conda create -n ml python==3.7.7 anaconda\n",
    "!pip install tensorflow\n",
    "!pip install opencv-python"
   ]
  },
  {
   "cell_type": "markdown",
   "metadata": {},
   "source": [
    "코드 실행 전에, 실행 환경이 설정한 가상환경으로 변경되어있는지 확인할 것."
   ]
  }
 ]
}