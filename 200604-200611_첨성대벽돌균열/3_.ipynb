{
 "cells": [
  {
   "cell_type": "markdown",
   "metadata": {},
   "source": [
    "# 로컬 영역이 아닌 전역적으로 이미지에 모델을 적용시킬 수 있다면...?\n",
    "\n",
    "## 레이블 된 이미지 생성:"
   ]
  },
  {
   "cell_type": "code",
   "execution_count": null,
   "metadata": {},
   "outputs": [],
   "source": [
    "import cv2\n",
    "import numpy as np\n",
    "\n",
    "MIN_CONT_AREA = 20\n",
    "\n",
    "# --------------------------------\n",
    "\n",
    "for raw, mask in load():\n",
    "    contours = cv2.findContours(mask, cv2.RETR_EXTERNAL, cv2.CHAIN_APPROX_SIMPLE)[-2]\n",
    "\n",
    "    labled_mask = np.zeros(mask.shape, dtype=np.uint8)\n",
    "\n",
    "    for cont in contours:\n",
    "        if cv2.contourArea(cont) >= MIN_CONT_AREA:\n",
    "            cv2.drawContours(labled_mask, [cont], -1, 1, -1)\n",
    "\n",
    "        else:\n",
    "            cv2.drawContours(labled_mask, [cont], -1, 2, -1)\n"
   ]
  }
 ],
 "metadata": {
  "language_info": {
   "codemirror_mode": {
    "name": "ipython",
    "version": 3
   },
   "file_extension": ".py",
   "mimetype": "text/x-python",
   "name": "python",
   "nbconvert_exporter": "python",
   "pygments_lexer": "ipython3",
   "version": 3
  },
  "orig_nbformat": 2
 },
 "nbformat": 4,
 "nbformat_minor": 2
}